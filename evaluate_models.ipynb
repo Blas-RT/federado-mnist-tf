{
 "cells": [
  {
   "cell_type": "markdown",
   "id": "0908b642",
   "metadata": {},
   "source": [
    "# Evaluación de Modelos\n",
    "\n",
    "---"
   ]
  },
  {
   "cell_type": "markdown",
   "id": "22d71327",
   "metadata": {},
   "source": [
    "## Importar liberías"
   ]
  },
  {
   "cell_type": "code",
   "execution_count": 1,
   "id": "c4fae941",
   "metadata": {},
   "outputs": [],
   "source": [
    "import tensorflow as tf\n",
    "import numpy as np\n",
    "from sklearn.metrics import classification_report, accuracy_score"
   ]
  },
  {
   "cell_type": "markdown",
   "id": "b17cb8f1",
   "metadata": {},
   "source": [
    "## Cargar Dataset de prueba"
   ]
  },
  {
   "cell_type": "code",
   "execution_count": null,
   "id": "b1dae004",
   "metadata": {},
   "outputs": [],
   "source": [
    "# Cargar test set\n",
    "(_, _), (x_test, y_test) = tf.keras.datasets.mnist.load_data()\n",
    "x_test = np.expand_dims(x_test / 255.0, -1)"
   ]
  },
  {
   "cell_type": "markdown",
   "id": "3cbed6ab",
   "metadata": {},
   "source": [
    "## Evaluar Modelos"
   ]
  },
  {
   "cell_type": "markdown",
   "id": "22d7bde6",
   "metadata": {},
   "source": [
    "#### Modelos Locales"
   ]
  },
  {
   "cell_type": "code",
   "execution_count": null,
   "id": "4c260131",
   "metadata": {},
   "outputs": [],
   "source": [
    "print(\"\\n--- Evaluación de Modelos Locales ---\\n\")\n",
    "for i in range(5):\n",
    "    model_path = f\"../local_training/client_model_{i}.keras\"\n",
    "    model = tf.keras.models.load_model(model_path)\n",
    "    y_pred = model.predict(x_test)\n",
    "    y_pred_classes = np.argmax(y_pred, axis=1)\n",
    "    acc = accuracy_score(y_test, y_pred_classes)\n",
    "    print(f\"Cliente {i} - Accuracy: {acc:.4f}\")"
   ]
  },
  {
   "cell_type": "markdown",
   "id": "4e2b4e0e",
   "metadata": {},
   "source": [
    "#### Modelos Globales"
   ]
  },
  {
   "cell_type": "code",
   "execution_count": null,
   "id": "c19a364f",
   "metadata": {},
   "outputs": [],
   "source": [
    "print(\"\\n--- Evaluación de Modelos Globales ---\\n\")\n",
    "\n",
    "model_paths = {\n",
    "    \"FedAvg\": \"global_model_fedavg.keras\",\n",
    "    \"FedMedian\": \"global_model_fedmedian.keras\",\n",
    "    \"FedWeighted\": \"global_model_fedweighted.keras\"\n",
    "}\n",
    "\n",
    "for name, path in model_paths.items():\n",
    "    model = tf.keras.models.load_model(path)\n",
    "    y_pred = model.predict(x_test)\n",
    "    y_pred_classes = np.argmax(y_pred, axis=1)\n",
    "    acc = accuracy_score(y_test, y_pred_classes)\n",
    "    print(f\"{name} - Accuracy: {acc:.4f}\")\n",
    "    print(classification_report(y_test, y_pred_classes, digits=4))"
   ]
  }
 ],
 "metadata": {
  "kernelspec": {
   "display_name": ".venv",
   "language": "python",
   "name": "python3"
  },
  "language_info": {
   "codemirror_mode": {
    "name": "ipython",
    "version": 3
   },
   "file_extension": ".py",
   "mimetype": "text/x-python",
   "name": "python",
   "nbconvert_exporter": "python",
   "pygments_lexer": "ipython3",
   "version": "3.12.9"
  }
 },
 "nbformat": 4,
 "nbformat_minor": 5
}
