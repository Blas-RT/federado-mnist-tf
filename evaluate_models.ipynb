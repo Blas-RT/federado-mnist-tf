{
 "cells": [
  {
   "cell_type": "markdown",
   "id": "0908b642",
   "metadata": {},
   "source": [
    "# Evaluación de Modelos\n",
    "\n",
    "---\n",
    "\n",
    "Este notebook evalúa el rendimiento de los modelos locales (uno por cliente) y de los modelos globales obtenidos mediante distintos métodos de agregación:\n",
    "- **FedAvg**\n",
    "- **FedWeighted**\n",
    "- **FedMedian**\n",
    "- **FedTrimmedMean** (Extra)\n",
    "\n",
    "Se utiliza el conjunto de prueba global (completo) de MNIST para medir:\n",
    "- **Accuracy general**\n",
    "- **Classification Report** (precision, recall, f1-score por clase)"
   ]
  },
  {
   "cell_type": "markdown",
   "id": "22d71327",
   "metadata": {},
   "source": [
    "## Importar liberías"
   ]
  },
  {
   "cell_type": "code",
   "execution_count": 5,
   "id": "c4fae941",
   "metadata": {},
   "outputs": [],
   "source": [
    "import tensorflow as tf\n",
    "import numpy as np\n",
    "import matplotlib.pyplot as plt\n",
    "from sklearn.metrics import classification_report, accuracy_score"
   ]
  },
  {
   "cell_type": "markdown",
   "id": "b17cb8f1",
   "metadata": {},
   "source": [
    "## Cargar Dataset de prueba"
   ]
  },
  {
   "cell_type": "code",
   "execution_count": 2,
   "id": "b1dae004",
   "metadata": {},
   "outputs": [],
   "source": [
    "# Cargar test set\n",
    "(_, _), (x_test, y_test) = tf.keras.datasets.mnist.load_data()\n",
    "x_test = np.expand_dims(x_test / 255.0, -1)"
   ]
  },
  {
   "cell_type": "markdown",
   "id": "3cbed6ab",
   "metadata": {},
   "source": [
    "## Evaluar Modelos"
   ]
  },
  {
   "cell_type": "markdown",
   "id": "22d7bde6",
   "metadata": {},
   "source": [
    "#### Modelos Locales"
   ]
  },
  {
   "cell_type": "code",
   "execution_count": 3,
   "id": "4c260131",
   "metadata": {},
   "outputs": [
    {
     "name": "stdout",
     "output_type": "stream",
     "text": [
      "\n",
      "--- Evaluación de Modelos Locales ---\n",
      "\n",
      "\u001b[1m313/313\u001b[0m \u001b[32m━━━━━━━━━━━━━━━━━━━━\u001b[0m\u001b[37m\u001b[0m \u001b[1m0s\u001b[0m 1ms/step\n",
      "Cliente 0 - Accuracy: 0.9591\n",
      "\u001b[1m313/313\u001b[0m \u001b[32m━━━━━━━━━━━━━━━━━━━━\u001b[0m\u001b[37m\u001b[0m \u001b[1m0s\u001b[0m 1ms/step\n",
      "Cliente 1 - Accuracy: 0.9574\n",
      "\u001b[1m313/313\u001b[0m \u001b[32m━━━━━━━━━━━━━━━━━━━━\u001b[0m\u001b[37m\u001b[0m \u001b[1m0s\u001b[0m 1ms/step\n",
      "Cliente 2 - Accuracy: 0.9571\n",
      "\u001b[1m313/313\u001b[0m \u001b[32m━━━━━━━━━━━━━━━━━━━━\u001b[0m\u001b[37m\u001b[0m \u001b[1m0s\u001b[0m 1ms/step  \n",
      "Cliente 3 - Accuracy: 0.9590\n",
      "\u001b[1m313/313\u001b[0m \u001b[32m━━━━━━━━━━━━━━━━━━━━\u001b[0m\u001b[37m\u001b[0m \u001b[1m0s\u001b[0m 1ms/step\n",
      "Cliente 4 - Accuracy: 0.9650\n"
     ]
    }
   ],
   "source": [
    "print(\"\\n--- Evaluación de Modelos Locales ---\\n\")\n",
    "for i in range(5):\n",
    "    model_path = f\"./local_training/client_model_{i}.keras\"\n",
    "    model = tf.keras.models.load_model(model_path)\n",
    "    y_pred = model.predict(x_test)\n",
    "    y_pred_classes = np.argmax(y_pred, axis=1)\n",
    "    acc = accuracy_score(y_test, y_pred_classes)\n",
    "    print(f\"Cliente {i} - Accuracy: {acc:.4f}\")"
   ]
  },
  {
   "cell_type": "markdown",
   "id": "4e2b4e0e",
   "metadata": {},
   "source": [
    "#### Modelos Globales"
   ]
  },
  {
   "cell_type": "code",
   "execution_count": 4,
   "id": "6aec5168",
   "metadata": {},
   "outputs": [
    {
     "name": "stdout",
     "output_type": "stream",
     "text": [
      "\u001b[1m 51/313\u001b[0m \u001b[32m━━━\u001b[0m\u001b[37m━━━━━━━━━━━━━━━━━\u001b[0m \u001b[1m0s\u001b[0m 1ms/step "
     ]
    },
    {
     "name": "stderr",
     "output_type": "stream",
     "text": [
      "c:\\Users\\blast\\Documents\\Blas\\TEC\\Universidad TEC\\8vo Semestre\\Desarrollo de proyectos\\Computo en la Nube (Jesus A)\\Clase 5\\federado-mnist-tf\\.venv\\Lib\\site-packages\\keras\\src\\saving\\saving_lib.py:757: UserWarning: Skipping variable loading for optimizer 'adam', because it has 14 variables whereas the saved optimizer has 2 variables. \n",
      "  saveable.load_own_variables(weights_store.get(inner_path))\n"
     ]
    },
    {
     "name": "stdout",
     "output_type": "stream",
     "text": [
      "\u001b[1m313/313\u001b[0m \u001b[32m━━━━━━━━━━━━━━━━━━━━\u001b[0m\u001b[37m\u001b[0m \u001b[1m0s\u001b[0m 1ms/step\n",
      "\n",
      "== Resultados para FedAvg ==\n",
      "Accuracy: 0.5527\n",
      "              precision    recall  f1-score   support\n",
      "\n",
      "           0     0.9714    0.3816    0.5480       980\n",
      "           1     0.9988    0.7101    0.8301      1135\n",
      "           2     0.8325    0.6502    0.7301      1032\n",
      "           3     0.8346    0.2149    0.3417      1010\n",
      "           4     0.9104    0.7138    0.8002       982\n",
      "           5     0.5438    0.7309    0.6236       892\n",
      "           6     1.0000    0.0595    0.1123       958\n",
      "           7     0.9815    0.7228    0.8325      1028\n",
      "           8     0.2121    0.9897    0.3493       974\n",
      "           9     0.8261    0.3389    0.4807      1009\n",
      "\n",
      "    accuracy                         0.5527     10000\n",
      "   macro avg     0.8111    0.5513    0.5649     10000\n",
      "weighted avg     0.8174    0.5527    0.5709     10000\n",
      "\n",
      "\u001b[1m 51/313\u001b[0m \u001b[32m━━━\u001b[0m\u001b[37m━━━━━━━━━━━━━━━━━\u001b[0m \u001b[1m0s\u001b[0m 1ms/step "
     ]
    },
    {
     "name": "stderr",
     "output_type": "stream",
     "text": [
      "c:\\Users\\blast\\Documents\\Blas\\TEC\\Universidad TEC\\8vo Semestre\\Desarrollo de proyectos\\Computo en la Nube (Jesus A)\\Clase 5\\federado-mnist-tf\\.venv\\Lib\\site-packages\\keras\\src\\saving\\saving_lib.py:757: UserWarning: Skipping variable loading for optimizer 'adam', because it has 14 variables whereas the saved optimizer has 2 variables. \n",
      "  saveable.load_own_variables(weights_store.get(inner_path))\n"
     ]
    },
    {
     "name": "stdout",
     "output_type": "stream",
     "text": [
      "\u001b[1m313/313\u001b[0m \u001b[32m━━━━━━━━━━━━━━━━━━━━\u001b[0m\u001b[37m\u001b[0m \u001b[1m0s\u001b[0m 1ms/step\n",
      "\n",
      "== Resultados para FedMedian ==\n",
      "Accuracy: 0.6750\n",
      "              precision    recall  f1-score   support\n",
      "\n",
      "           0     0.9816    0.5980    0.7432       980\n",
      "           1     0.9888    0.8537    0.9163      1135\n",
      "           2     0.6237    0.7500    0.6810      1032\n",
      "           3     0.8030    0.6297    0.7059      1010\n",
      "           4     0.8726    0.6415    0.7394       982\n",
      "           5     0.3686    0.9013    0.5233       892\n",
      "           6     1.0000    0.0543    0.1030       958\n",
      "           7     0.9276    0.7481    0.8282      1028\n",
      "           8     0.6166    0.6622    0.6386       974\n",
      "           9     0.5673    0.8771    0.6890      1009\n",
      "\n",
      "    accuracy                         0.6750     10000\n",
      "   macro avg     0.7750    0.6716    0.6568     10000\n",
      "weighted avg     0.7809    0.6750    0.6644     10000\n",
      "\n",
      "\u001b[1m 53/313\u001b[0m \u001b[32m━━━\u001b[0m\u001b[37m━━━━━━━━━━━━━━━━━\u001b[0m \u001b[1m0s\u001b[0m 977us/step"
     ]
    },
    {
     "name": "stderr",
     "output_type": "stream",
     "text": [
      "c:\\Users\\blast\\Documents\\Blas\\TEC\\Universidad TEC\\8vo Semestre\\Desarrollo de proyectos\\Computo en la Nube (Jesus A)\\Clase 5\\federado-mnist-tf\\.venv\\Lib\\site-packages\\keras\\src\\saving\\saving_lib.py:757: UserWarning: Skipping variable loading for optimizer 'adam', because it has 14 variables whereas the saved optimizer has 2 variables. \n",
      "  saveable.load_own_variables(weights_store.get(inner_path))\n"
     ]
    },
    {
     "name": "stdout",
     "output_type": "stream",
     "text": [
      "\u001b[1m313/313\u001b[0m \u001b[32m━━━━━━━━━━━━━━━━━━━━\u001b[0m\u001b[37m\u001b[0m \u001b[1m0s\u001b[0m 1ms/step\n",
      "\n",
      "== Resultados para FedWeighted ==\n",
      "Accuracy: 0.5527\n",
      "              precision    recall  f1-score   support\n",
      "\n",
      "           0     0.9714    0.3816    0.5480       980\n",
      "           1     0.9988    0.7101    0.8301      1135\n",
      "           2     0.8325    0.6502    0.7301      1032\n",
      "           3     0.8346    0.2149    0.3417      1010\n",
      "           4     0.9104    0.7138    0.8002       982\n",
      "           5     0.5438    0.7309    0.6236       892\n",
      "           6     1.0000    0.0595    0.1123       958\n",
      "           7     0.9815    0.7228    0.8325      1028\n",
      "           8     0.2121    0.9897    0.3493       974\n",
      "           9     0.8261    0.3389    0.4807      1009\n",
      "\n",
      "    accuracy                         0.5527     10000\n",
      "   macro avg     0.8111    0.5513    0.5649     10000\n",
      "weighted avg     0.8174    0.5527    0.5709     10000\n",
      "\n",
      "\u001b[1m 39/313\u001b[0m \u001b[32m━━\u001b[0m\u001b[37m━━━━━━━━━━━━━━━━━━\u001b[0m \u001b[1m0s\u001b[0m 1ms/step "
     ]
    },
    {
     "name": "stderr",
     "output_type": "stream",
     "text": [
      "c:\\Users\\blast\\Documents\\Blas\\TEC\\Universidad TEC\\8vo Semestre\\Desarrollo de proyectos\\Computo en la Nube (Jesus A)\\Clase 5\\federado-mnist-tf\\.venv\\Lib\\site-packages\\keras\\src\\saving\\saving_lib.py:757: UserWarning: Skipping variable loading for optimizer 'adam', because it has 14 variables whereas the saved optimizer has 2 variables. \n",
      "  saveable.load_own_variables(weights_store.get(inner_path))\n"
     ]
    },
    {
     "name": "stdout",
     "output_type": "stream",
     "text": [
      "\u001b[1m313/313\u001b[0m \u001b[32m━━━━━━━━━━━━━━━━━━━━\u001b[0m\u001b[37m\u001b[0m \u001b[1m0s\u001b[0m 1ms/step\n",
      "\n",
      "== Resultados para FedTrimmedMean ==\n",
      "Accuracy: 0.7107\n",
      "              precision    recall  f1-score   support\n",
      "\n",
      "           0     0.9116    0.7786    0.8398       980\n",
      "           1     0.9949    0.8546    0.9194      1135\n",
      "           2     0.7364    0.8663    0.7961      1032\n",
      "           3     0.9163    0.4337    0.5887      1010\n",
      "           4     0.9166    0.6711    0.7748       982\n",
      "           5     0.4948    0.8587    0.6279       892\n",
      "           6     1.0000    0.1785    0.3029       958\n",
      "           7     0.9676    0.7850    0.8668      1028\n",
      "           8     0.4160    0.9281    0.5745       974\n",
      "           9     0.6993    0.7284    0.7136      1009\n",
      "\n",
      "    accuracy                         0.7107     10000\n",
      "   macro avg     0.8054    0.7083    0.7005     10000\n",
      "weighted avg     0.8113    0.7107    0.7065     10000\n",
      "\n"
     ]
    }
   ],
   "source": [
    "# Ruta de los modelos\n",
    "model_paths = {\n",
    "    \"FedAvg\": \"./federated_aggregation/global_model_fedavg.keras\",\n",
    "    \"FedMedian\": \"./federated_aggregation/global_model_fedmedian.keras\",\n",
    "    \"FedWeighted\": \"./federated_aggregation/global_model_fedweighted.keras\",\n",
    "    \"FedTrimmedMean\": \"./federated_aggregation/global_model_fedtrimmedmean.keras\"\n",
    "}\n",
    "\n",
    "# Evaluación\n",
    "for name, path in model_paths.items():\n",
    "    model = tf.keras.models.load_model(path)\n",
    "    y_pred = model.predict(x_test)\n",
    "    y_pred_classes = np.argmax(y_pred, axis=1)\n",
    "    \n",
    "    acc = accuracy_score(y_test, y_pred_classes)\n",
    "    print(f\"\\n== Resultados para {name} ==\")\n",
    "    print(f\"Accuracy: {acc:.4f}\")\n",
    "    print(classification_report(y_test, y_pred_classes, digits=4))"
   ]
  },
  {
   "cell_type": "markdown",
   "id": "7ac72c1d",
   "metadata": {},
   "source": [
    "## Gráfico Comparativo"
   ]
  },
  {
   "cell_type": "code",
   "execution_count": 6,
   "id": "dbb61deb",
   "metadata": {},
   "outputs": [
    {
     "data": {
      "image/png": "[encoded data removed]",
      "text/plain": [
       "<Figure size 1000x600 with 1 Axes>"
      ]
     },
     "metadata": {},
     "output_type": "display_data"
    }
   ],
   "source": [
    "# Nombres de los métodos y sus accuracies\n",
    "model_names = [\"FedAvg\", \"FedMedian\", \"FedWeighted\", \"FedTrimmedMean\"]\n",
    "accuracies = [0.5527, 0.6750, 0.5527, 0.7107]\n",
    "\n",
    "# Crear gráfico de barras\n",
    "plt.figure(figsize=(10, 6))\n",
    "bars = plt.bar(model_names, accuracies, color='skyblue', edgecolor='black')\n",
    "plt.ylim(0.5, 0.75)\n",
    "plt.ylabel(\"Accuracy\")\n",
    "plt.title(\"Comparación de Accuracy entre métodos de agregación federada\")\n",
    "\n",
    "for bar in bars:\n",
    "    height = bar.get_height()\n",
    "    plt.text(bar.get_x() + bar.get_width()/2, height + 0.005, f\"{height:.4f}\",\n",
    "            ha='center', va='bottom', fontsize=10)\n",
    "\n",
    "plt.grid(axis='y', linestyle='--', alpha=0.7)\n",
    "plt.tight_layout()\n",
    "plt.show()"
   ]
  }
 ],
 "metadata": {
  "kernelspec": {
   "display_name": ".venv",
   "language": "python",
   "name": "python3"
  },
  "language_info": {
   "codemirror_mode": {
    "name": "ipython",
    "version": 3
   },
   "file_extension": ".py",
   "mimetype": "text/x-python",
   "name": "python",
   "nbconvert_exporter": "python",
   "pygments_lexer": "ipython3",
   "version": "3.12.9"
  }
 },
 "nbformat": 4,
 "nbformat_minor": 5
}
