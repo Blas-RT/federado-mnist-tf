{
 "cells": [
  {
   "cell_type": "markdown",
   "id": "2018912f",
   "metadata": {},
   "source": [
    "# Creación de Bases de Datos\n",
    "\n",
    "---"
   ]
  },
  {
   "cell_type": "markdown",
   "id": "4e28ded8",
   "metadata": {},
   "source": [
    "## Importando librerías"
   ]
  },
  {
   "cell_type": "code",
   "execution_count": 1,
   "id": "76991f45",
   "metadata": {},
   "outputs": [],
   "source": [
    "import numpy as np\n",
    "import tensorflow as tf\n",
    "from sklearn.model_selection import StratifiedKFold\n",
    "import os"
   ]
  },
  {
   "cell_type": "markdown",
   "id": "29301921",
   "metadata": {},
   "source": [
    "## Crear carpeta"
   ]
  },
  {
   "cell_type": "code",
   "execution_count": 2,
   "id": "90ce40d1",
   "metadata": {},
   "outputs": [],
   "source": [
    "# Crear carpeta fuera del repo\n",
    "output_dir = \"../datos_confidenciales\"\n",
    "os.makedirs(output_dir, exist_ok=True)"
   ]
  },
  {
   "cell_type": "markdown",
   "id": "9a441030",
   "metadata": {},
   "source": [
    "## Cargar datos (normalizados)"
   ]
  },
  {
   "cell_type": "code",
   "execution_count": 3,
   "id": "aa68da82",
   "metadata": {},
   "outputs": [],
   "source": [
    "# Cargar datos y normalizar\n",
    "(train_images, train_labels), _ = tf.keras.datasets.mnist.load_data()\n",
    "x_train = np.expand_dims(train_images / 255.0, -1)\n",
    "y_train = train_labels"
   ]
  },
  {
   "cell_type": "markdown",
   "id": "116b48cd",
   "metadata": {},
   "source": [
    "## Dividir en 5 partes"
   ]
  },
  {
   "cell_type": "code",
   "execution_count": 4,
   "id": "c422fb53",
   "metadata": {},
   "outputs": [],
   "source": [
    "n = 5\n",
    "skf = StratifiedKFold(n_splits=n, shuffle=True, random_state=42)\n",
    "splits = list(skf.split(x_train, y_train))"
   ]
  },
  {
   "cell_type": "markdown",
   "id": "ad4053e5",
   "metadata": {},
   "source": [
    "## Guardar cada archivo"
   ]
  },
  {
   "cell_type": "code",
   "execution_count": 5,
   "id": "9e87b713",
   "metadata": {},
   "outputs": [
    {
     "name": "stdout",
     "output_type": "stream",
     "text": [
      "Guardado cliente_0.npz con 12000 ejemplos.\n",
      "Guardado cliente_1.npz con 12000 ejemplos.\n",
      "Guardado cliente_2.npz con 12000 ejemplos.\n",
      "Guardado cliente_3.npz con 12000 ejemplos.\n",
      "Guardado cliente_4.npz con 12000 ejemplos.\n"
     ]
    }
   ],
   "source": [
    "for i, (_, test_idx) in enumerate(splits):\n",
    "    np.savez_compressed(os.path.join(output_dir, f\"cliente_{i}.npz\"),\n",
    "                        x=x_train[test_idx],\n",
    "                        y=y_train[test_idx])\n",
    "    print(f\"Guardado cliente_{i}.npz con {len(test_idx)} ejemplos.\")"
   ]
  }
 ],
 "metadata": {
  "kernelspec": {
   "display_name": ".venv",
   "language": "python",
   "name": "python3"
  },
  "language_info": {
   "codemirror_mode": {
    "name": "ipython",
    "version": 3
   },
   "file_extension": ".py",
   "mimetype": "text/x-python",
   "name": "python",
   "nbconvert_exporter": "python",
   "pygments_lexer": "ipython3",
   "version": "3.12.9"
  }
 },
 "nbformat": 4,
 "nbformat_minor": 5
}
