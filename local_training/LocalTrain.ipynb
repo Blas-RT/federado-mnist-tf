{
 "cells": [
  {
   "cell_type": "markdown",
   "id": "b7be1e76",
   "metadata": {},
   "source": [
    "# Entrenamiento Local\n",
    "---"
   ]
  },
  {
   "cell_type": "markdown",
   "id": "bce0fae5",
   "metadata": {},
   "source": [
    "## Importando librerías"
   ]
  },
  {
   "cell_type": "code",
   "execution_count": 1,
   "id": "8759a17a",
   "metadata": {},
   "outputs": [],
   "source": [
    "import tensorflow as tf\n",
    "import numpy as np\n",
    "import matplotlib.pyplot as plt\n",
    "from sklearn.metrics import classification_report\n",
    "import sys\n",
    "import os\n",
    "\n",
    "sys.path.append(os.path.abspath('../models'))\n",
    "from TheModel import build  # Modelo nuestro"
   ]
  },
  {
   "cell_type": "markdown",
   "id": "7ef8070d",
   "metadata": {},
   "source": [
    "## Cargar partición local del cliente"
   ]
  },
  {
   "cell_type": "code",
   "execution_count": 2,
   "id": "3b7c08ae",
   "metadata": {},
   "outputs": [],
   "source": [
    "# CAMBIA el número si estás simulando otro integrante\n",
    "cliente_id = 3\n",
    "data = np.load(f\"../datos_confidenciales/cliente_{cliente_id}.npz\")\n",
    "x_local, y_local = data[\"x\"], data[\"y\"]"
   ]
  },
  {
   "cell_type": "code",
   "execution_count": 3,
   "id": "7adce98d",
   "metadata": {},
   "outputs": [],
   "source": [
    "# Cargar datos de prueba global (mismo para todos)\n",
    "(_, _), (x_test, y_test) = tf.keras.datasets.mnist.load_data()\n",
    "x_test = np.expand_dims(x_test / 255.0, -1)"
   ]
  },
  {
   "cell_type": "markdown",
   "id": "7f366f40",
   "metadata": {},
   "source": [
    "## Entrenamiento y evaluación local"
   ]
  },
  {
   "cell_type": "code",
   "execution_count": 4,
   "id": "3810ecce",
   "metadata": {},
   "outputs": [
    {
     "name": "stderr",
     "output_type": "stream",
     "text": [
      "c:\\Users\\blast\\Documents\\Blas\\TEC\\Universidad TEC\\8vo Semestre\\Desarrollo de proyectos\\Computo en la Nube (Jesus A)\\Clase 5\\federado-mnist-tf\\.venv\\Lib\\site-packages\\keras\\src\\layers\\reshaping\\flatten.py:37: UserWarning: Do not pass an `input_shape`/`input_dim` argument to a layer. When using Sequential models, prefer using an `Input(shape)` object as the first layer in the model instead.\n",
      "  super().__init__(**kwargs)\n"
     ]
    },
    {
     "name": "stdout",
     "output_type": "stream",
     "text": [
      "Epoch 1/5\n",
      "375/375 - 3s - 8ms/step - accuracy: 0.8707 - loss: 0.4144 - val_accuracy: 0.9411 - val_loss: 0.1963\n",
      "Epoch 2/5\n",
      "375/375 - 2s - 6ms/step - accuracy: 0.9467 - loss: 0.1789 - val_accuracy: 0.9509 - val_loss: 0.1604\n",
      "Epoch 3/5\n",
      "375/375 - 2s - 5ms/step - accuracy: 0.9633 - loss: 0.1185 - val_accuracy: 0.9521 - val_loss: 0.1648\n",
      "Epoch 4/5\n",
      "375/375 - 2s - 6ms/step - accuracy: 0.9683 - loss: 0.0963 - val_accuracy: 0.9563 - val_loss: 0.1550\n",
      "Epoch 5/5\n",
      "375/375 - 2s - 6ms/step - accuracy: 0.9782 - loss: 0.0667 - val_accuracy: 0.9591 - val_loss: 0.1346\n"
     ]
    }
   ],
   "source": [
    "# Entrenamiento del modelo local\n",
    "model = build.build_it()\n",
    "\n",
    "history = model.fit(\n",
    "    x_local, y_local,\n",
    "    epochs=5,\n",
    "    validation_data=(x_test, y_test),\n",
    "    verbose=2\n",
    ")"
   ]
  },
  {
   "cell_type": "code",
   "execution_count": 5,
   "id": "9ed39b2a",
   "metadata": {},
   "outputs": [
    {
     "name": "stdout",
     "output_type": "stream",
     "text": [
      "\u001b[1m313/313\u001b[0m \u001b[32m━━━━━━━━━━━━━━━━━━━━\u001b[0m\u001b[37m\u001b[0m \u001b[1m0s\u001b[0m 1ms/step\n",
      "              precision    recall  f1-score   support\n",
      "\n",
      "           0       0.97      0.99      0.98       980\n",
      "           1       0.99      0.99      0.99      1135\n",
      "           2       0.96      0.95      0.96      1032\n",
      "           3       0.90      0.98      0.94      1010\n",
      "           4       0.94      0.98      0.96       982\n",
      "           5       0.99      0.91      0.95       892\n",
      "           6       0.97      0.97      0.97       958\n",
      "           7       0.96      0.96      0.96      1028\n",
      "           8       0.98      0.94      0.96       974\n",
      "           9       0.94      0.93      0.94      1009\n",
      "\n",
      "    accuracy                           0.96     10000\n",
      "   macro avg       0.96      0.96      0.96     10000\n",
      "weighted avg       0.96      0.96      0.96     10000\n",
      "\n"
     ]
    }
   ],
   "source": [
    "# Evaluación\n",
    "y_pred = model.predict(x_test)\n",
    "y_pred_classes = np.argmax(y_pred, axis=1)\n",
    "print(classification_report(y_test, y_pred_classes))"
   ]
  },
  {
   "cell_type": "code",
   "execution_count": 6,
   "id": "785796b5",
   "metadata": {},
   "outputs": [
    {
     "data": {
      "image/png": "[encoded data removed]",
      "text/plain": [
       "<Figure size 640x480 with 1 Axes>"
      ]
     },
     "metadata": {},
     "output_type": "display_data"
    }
   ],
   "source": [
    "# Curva de aprendizaje\n",
    "plt.plot(history.history['accuracy'], label='Entrenamiento')\n",
    "plt.plot(history.history['val_accuracy'], label='Validación')\n",
    "plt.xlabel('Épocas')\n",
    "plt.ylabel('Precisión')\n",
    "plt.title(f\"Cliente {cliente_id}\")\n",
    "plt.legend()\n",
    "plt.show()"
   ]
  },
  {
   "cell_type": "code",
   "execution_count": 7,
   "id": "6d9cd00e",
   "metadata": {},
   "outputs": [],
   "source": [
    "# Guardar modelo local\n",
    "model.save(f\"client_model_{cliente_id}.keras\")"
   ]
  }
 ],
 "metadata": {
  "kernelspec": {
   "display_name": ".venv",
   "language": "python",
   "name": "python3"
  },
  "language_info": {
   "codemirror_mode": {
    "name": "ipython",
    "version": 3
   },
   "file_extension": ".py",
   "mimetype": "text/x-python",
   "name": "python",
   "nbconvert_exporter": "python",
   "pygments_lexer": "ipython3",
   "version": "3.12.9"
  }
 },
 "nbformat": 4,
 "nbformat_minor": 5
}
