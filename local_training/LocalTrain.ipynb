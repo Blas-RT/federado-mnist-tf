{
 "cells": [
  {
   "cell_type": "markdown",
   "id": "b7be1e76",
   "metadata": {},
   "source": [
    "# Entrenamiento Local\n",
    "---"
   ]
  },
  {
   "cell_type": "markdown",
   "id": "bce0fae5",
   "metadata": {},
   "source": [
    "## Importando librerías"
   ]
  },
  {
   "cell_type": "code",
   "execution_count": null,
   "id": "8759a17a",
   "metadata": {},
   "outputs": [],
   "source": [
    "import tensorflow as tf\n",
    "import numpy as np\n",
    "import matplotlib.pyplot as plt\n",
    "from sklearn.metrics import classification_report\n",
    "import sys\n",
    "import os\n",
    "\n",
    "sys.path.append(os.path.abspath('../models'))\n",
    "from TheModel import build  # Modelo nuestro"
   ]
  },
  {
   "cell_type": "markdown",
   "id": "7ef8070d",
   "metadata": {},
   "source": [
    "## Cargar partición local del cliente"
   ]
  },
  {
   "cell_type": "code",
   "execution_count": null,
   "id": "3b7c08ae",
   "metadata": {},
   "outputs": [
    {
     "name": "stdout",
     "output_type": "stream",
     "text": [
      "Downloading data from https://storage.googleapis.com/tensorflow/tf-keras-datasets/mnist.npz\n",
      "\u001b[1m11490434/11490434\u001b[0m \u001b[32m━━━━━━━━━━━━━━━━━━━━\u001b[0m\u001b[37m\u001b[0m \u001b[1m0s\u001b[0m 0us/step\n"
     ]
    }
   ],
   "source": [
    "# CAMBIA el número si estás simulando otro integrante\n",
    "cliente_id = 0\n",
    "data = np.load(f\"../../datos_confidenciales/cliente_{cliente_id}.npz\")\n",
    "x_local, y_local = data[\"x\"], data[\"y\"]"
   ]
  },
  {
   "cell_type": "code",
   "execution_count": null,
   "id": "7adce98d",
   "metadata": {},
   "outputs": [],
   "source": [
    "# Cargar datos de prueba global (mismo para todos)\n",
    "(_, _), (x_test, y_test) = tf.keras.datasets.mnist.load_data()\n",
    "x_test = np.expand_dims(x_test / 255.0, -1)"
   ]
  },
  {
   "cell_type": "markdown",
   "id": "7f366f40",
   "metadata": {},
   "source": [
    "## Entrenamiento y evaluación local"
   ]
  },
  {
   "cell_type": "code",
   "execution_count": null,
   "id": "3810ecce",
   "metadata": {},
   "outputs": [],
   "source": [
    "# Entrenamiento del modelo local\n",
    "model = build.build_it()\n",
    "\n",
    "history = model.fit(\n",
    "    x_local, y_local,\n",
    "    epochs=5,\n",
    "    validation_data=(x_test, y_test),\n",
    "    verbose=2\n",
    ")"
   ]
  },
  {
   "cell_type": "code",
   "execution_count": null,
   "id": "9ed39b2a",
   "metadata": {},
   "outputs": [],
   "source": [
    "# Evaluación\n",
    "y_pred = model.predict(x_test)\n",
    "y_pred_classes = np.argmax(y_pred, axis=1)\n",
    "print(classification_report(y_test, y_pred_classes))"
   ]
  },
  {
   "cell_type": "code",
   "execution_count": null,
   "id": "785796b5",
   "metadata": {},
   "outputs": [],
   "source": [
    "# Curva de aprendizaje\n",
    "plt.plot(history.history['accuracy'], label='Entrenamiento')\n",
    "plt.plot(history.history['val_accuracy'], label='Validación')\n",
    "plt.xlabel('Épocas')\n",
    "plt.ylabel('Precisión')\n",
    "plt.title(f\"Cliente {cliente_id}\")\n",
    "plt.legend()\n",
    "plt.show()"
   ]
  },
  {
   "cell_type": "code",
   "execution_count": null,
   "id": "6d9cd00e",
   "metadata": {},
   "outputs": [],
   "source": [
    "# Guardar modelo local\n",
    "model.save(f\"client_model_{cliente_id}.keras\")"
   ]
  }
 ],
 "metadata": {
  "kernelspec": {
   "display_name": ".venv",
   "language": "python",
   "name": "python3"
  },
  "language_info": {
   "codemirror_mode": {
    "name": "ipython",
    "version": 3
   },
   "file_extension": ".py",
   "mimetype": "text/x-python",
   "name": "python",
   "nbconvert_exporter": "python",
   "pygments_lexer": "ipython3",
   "version": "3.12.9"
  }
 },
 "nbformat": 4,
 "nbformat_minor": 5
}
